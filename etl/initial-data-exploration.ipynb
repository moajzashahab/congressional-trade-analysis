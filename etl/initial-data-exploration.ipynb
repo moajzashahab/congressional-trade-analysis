{
 "cells": [
  {
   "cell_type": "code",
   "execution_count": 17,
   "id": "aa973ff3",
   "metadata": {},
   "outputs": [],
   "source": [
    "import numpy as np\n",
    "import pandas as pd"
   ]
  },
  {
   "cell_type": "markdown",
   "id": "8ce0a275",
   "metadata": {},
   "source": [
    "### Inspect trade data\n",
    "Full congressional trade data pulled down from [Quiver Quantitative](https://www.quiverquant.com/home/)."
   ]
  },
  {
   "cell_type": "code",
   "execution_count": 18,
   "id": "15dce739",
   "metadata": {},
   "outputs": [
    {
     "ename": "KeyboardInterrupt",
     "evalue": "",
     "output_type": "error",
     "traceback": [
      "\u001b[0;31m---------------------------------------------------------------------------\u001b[0m",
      "\u001b[0;31mKeyboardInterrupt\u001b[0m                         Traceback (most recent call last)",
      "\u001b[0;32m/var/folders/fc/2z0mdyyx3z9g6l8q2dqn49cc0000gn/T/ipykernel_10689/1998519032.py\u001b[0m in \u001b[0;36m<module>\u001b[0;34m\u001b[0m\n\u001b[0;32m----> 1\u001b[0;31m \u001b[0mtrades_df\u001b[0m \u001b[0;34m=\u001b[0m \u001b[0mpd\u001b[0m\u001b[0;34m.\u001b[0m\u001b[0mread_excel\u001b[0m\u001b[0;34m(\u001b[0m\u001b[0;34m'../data/quiverquant_congress_trading_all.xlsx'\u001b[0m\u001b[0;34m)\u001b[0m\u001b[0;34m\u001b[0m\u001b[0;34m\u001b[0m\u001b[0m\n\u001b[0m\u001b[1;32m      2\u001b[0m \u001b[0;34m\u001b[0m\u001b[0m\n\u001b[1;32m      3\u001b[0m \u001b[0;31m# inspect data\u001b[0m\u001b[0;34m\u001b[0m\u001b[0;34m\u001b[0m\u001b[0m\n\u001b[1;32m      4\u001b[0m \u001b[0mtrades_df\u001b[0m\u001b[0;34m.\u001b[0m\u001b[0mhead\u001b[0m\u001b[0;34m(\u001b[0m\u001b[0;34m)\u001b[0m\u001b[0;34m\u001b[0m\u001b[0;34m\u001b[0m\u001b[0m\n",
      "\u001b[0;32m~/opt/anaconda3/lib/python3.9/site-packages/pandas/util/_decorators.py\u001b[0m in \u001b[0;36mwrapper\u001b[0;34m(*args, **kwargs)\u001b[0m\n\u001b[1;32m    309\u001b[0m                     \u001b[0mstacklevel\u001b[0m\u001b[0;34m=\u001b[0m\u001b[0mstacklevel\u001b[0m\u001b[0;34m,\u001b[0m\u001b[0;34m\u001b[0m\u001b[0;34m\u001b[0m\u001b[0m\n\u001b[1;32m    310\u001b[0m                 )\n\u001b[0;32m--> 311\u001b[0;31m             \u001b[0;32mreturn\u001b[0m \u001b[0mfunc\u001b[0m\u001b[0;34m(\u001b[0m\u001b[0;34m*\u001b[0m\u001b[0margs\u001b[0m\u001b[0;34m,\u001b[0m \u001b[0;34m**\u001b[0m\u001b[0mkwargs\u001b[0m\u001b[0;34m)\u001b[0m\u001b[0;34m\u001b[0m\u001b[0;34m\u001b[0m\u001b[0m\n\u001b[0m\u001b[1;32m    312\u001b[0m \u001b[0;34m\u001b[0m\u001b[0m\n\u001b[1;32m    313\u001b[0m         \u001b[0;32mreturn\u001b[0m \u001b[0mwrapper\u001b[0m\u001b[0;34m\u001b[0m\u001b[0;34m\u001b[0m\u001b[0m\n",
      "\u001b[0;32m~/opt/anaconda3/lib/python3.9/site-packages/pandas/io/excel/_base.py\u001b[0m in \u001b[0;36mread_excel\u001b[0;34m(io, sheet_name, header, names, index_col, usecols, squeeze, dtype, engine, converters, true_values, false_values, skiprows, nrows, na_values, keep_default_na, na_filter, verbose, parse_dates, date_parser, thousands, comment, skipfooter, convert_float, mangle_dupe_cols, storage_options)\u001b[0m\n\u001b[1;32m    370\u001b[0m \u001b[0;34m\u001b[0m\u001b[0m\n\u001b[1;32m    371\u001b[0m     \u001b[0;32mtry\u001b[0m\u001b[0;34m:\u001b[0m\u001b[0;34m\u001b[0m\u001b[0;34m\u001b[0m\u001b[0m\n\u001b[0;32m--> 372\u001b[0;31m         data = io.parse(\n\u001b[0m\u001b[1;32m    373\u001b[0m             \u001b[0msheet_name\u001b[0m\u001b[0;34m=\u001b[0m\u001b[0msheet_name\u001b[0m\u001b[0;34m,\u001b[0m\u001b[0;34m\u001b[0m\u001b[0;34m\u001b[0m\u001b[0m\n\u001b[1;32m    374\u001b[0m             \u001b[0mheader\u001b[0m\u001b[0;34m=\u001b[0m\u001b[0mheader\u001b[0m\u001b[0;34m,\u001b[0m\u001b[0;34m\u001b[0m\u001b[0;34m\u001b[0m\u001b[0m\n",
      "\u001b[0;32m~/opt/anaconda3/lib/python3.9/site-packages/pandas/io/excel/_base.py\u001b[0m in \u001b[0;36mparse\u001b[0;34m(self, sheet_name, header, names, index_col, usecols, squeeze, converters, true_values, false_values, skiprows, nrows, na_values, parse_dates, date_parser, thousands, comment, skipfooter, convert_float, mangle_dupe_cols, **kwds)\u001b[0m\n\u001b[1;32m   1270\u001b[0m             \u001b[0mDataFrame\u001b[0m \u001b[0;32mfrom\u001b[0m \u001b[0mthe\u001b[0m \u001b[0mpassed\u001b[0m \u001b[0;32min\u001b[0m \u001b[0mExcel\u001b[0m \u001b[0mfile\u001b[0m\u001b[0;34m.\u001b[0m\u001b[0;34m\u001b[0m\u001b[0;34m\u001b[0m\u001b[0m\n\u001b[1;32m   1271\u001b[0m         \"\"\"\n\u001b[0;32m-> 1272\u001b[0;31m         return self._reader.parse(\n\u001b[0m\u001b[1;32m   1273\u001b[0m             \u001b[0msheet_name\u001b[0m\u001b[0;34m=\u001b[0m\u001b[0msheet_name\u001b[0m\u001b[0;34m,\u001b[0m\u001b[0;34m\u001b[0m\u001b[0;34m\u001b[0m\u001b[0m\n\u001b[1;32m   1274\u001b[0m             \u001b[0mheader\u001b[0m\u001b[0;34m=\u001b[0m\u001b[0mheader\u001b[0m\u001b[0;34m,\u001b[0m\u001b[0;34m\u001b[0m\u001b[0;34m\u001b[0m\u001b[0m\n",
      "\u001b[0;32m~/opt/anaconda3/lib/python3.9/site-packages/pandas/io/excel/_base.py\u001b[0m in \u001b[0;36mparse\u001b[0;34m(self, sheet_name, header, names, index_col, usecols, squeeze, dtype, true_values, false_values, skiprows, nrows, na_values, verbose, parse_dates, date_parser, thousands, comment, skipfooter, convert_float, mangle_dupe_cols, **kwds)\u001b[0m\n\u001b[1;32m    537\u001b[0m                 \u001b[0msheet\u001b[0m \u001b[0;34m=\u001b[0m \u001b[0mself\u001b[0m\u001b[0;34m.\u001b[0m\u001b[0mget_sheet_by_index\u001b[0m\u001b[0;34m(\u001b[0m\u001b[0masheetname\u001b[0m\u001b[0;34m)\u001b[0m\u001b[0;34m\u001b[0m\u001b[0;34m\u001b[0m\u001b[0m\n\u001b[1;32m    538\u001b[0m \u001b[0;34m\u001b[0m\u001b[0m\n\u001b[0;32m--> 539\u001b[0;31m             \u001b[0mdata\u001b[0m \u001b[0;34m=\u001b[0m \u001b[0mself\u001b[0m\u001b[0;34m.\u001b[0m\u001b[0mget_sheet_data\u001b[0m\u001b[0;34m(\u001b[0m\u001b[0msheet\u001b[0m\u001b[0;34m,\u001b[0m \u001b[0mconvert_float\u001b[0m\u001b[0;34m)\u001b[0m\u001b[0;34m\u001b[0m\u001b[0;34m\u001b[0m\u001b[0m\n\u001b[0m\u001b[1;32m    540\u001b[0m             \u001b[0;32mif\u001b[0m \u001b[0mhasattr\u001b[0m\u001b[0;34m(\u001b[0m\u001b[0msheet\u001b[0m\u001b[0;34m,\u001b[0m \u001b[0;34m\"close\"\u001b[0m\u001b[0;34m)\u001b[0m\u001b[0;34m:\u001b[0m\u001b[0;34m\u001b[0m\u001b[0;34m\u001b[0m\u001b[0m\n\u001b[1;32m    541\u001b[0m                 \u001b[0;31m# pyxlsb opens two TemporaryFiles\u001b[0m\u001b[0;34m\u001b[0m\u001b[0;34m\u001b[0m\u001b[0m\n",
      "\u001b[0;32m~/opt/anaconda3/lib/python3.9/site-packages/pandas/io/excel/_openpyxl.py\u001b[0m in \u001b[0;36mget_sheet_data\u001b[0;34m(self, sheet, convert_float)\u001b[0m\n\u001b[1;32m    570\u001b[0m         \u001b[0mdata\u001b[0m\u001b[0;34m:\u001b[0m \u001b[0mlist\u001b[0m\u001b[0;34m[\u001b[0m\u001b[0mlist\u001b[0m\u001b[0;34m[\u001b[0m\u001b[0mScalar\u001b[0m\u001b[0;34m]\u001b[0m\u001b[0;34m]\u001b[0m \u001b[0;34m=\u001b[0m \u001b[0;34m[\u001b[0m\u001b[0;34m]\u001b[0m\u001b[0;34m\u001b[0m\u001b[0;34m\u001b[0m\u001b[0m\n\u001b[1;32m    571\u001b[0m         \u001b[0mlast_row_with_data\u001b[0m \u001b[0;34m=\u001b[0m \u001b[0;34m-\u001b[0m\u001b[0;36m1\u001b[0m\u001b[0;34m\u001b[0m\u001b[0;34m\u001b[0m\u001b[0m\n\u001b[0;32m--> 572\u001b[0;31m         \u001b[0;32mfor\u001b[0m \u001b[0mrow_number\u001b[0m\u001b[0;34m,\u001b[0m \u001b[0mrow\u001b[0m \u001b[0;32min\u001b[0m \u001b[0menumerate\u001b[0m\u001b[0;34m(\u001b[0m\u001b[0msheet\u001b[0m\u001b[0;34m.\u001b[0m\u001b[0mrows\u001b[0m\u001b[0;34m)\u001b[0m\u001b[0;34m:\u001b[0m\u001b[0;34m\u001b[0m\u001b[0;34m\u001b[0m\u001b[0m\n\u001b[0m\u001b[1;32m    573\u001b[0m             \u001b[0mconverted_row\u001b[0m \u001b[0;34m=\u001b[0m \u001b[0;34m[\u001b[0m\u001b[0mself\u001b[0m\u001b[0;34m.\u001b[0m\u001b[0m_convert_cell\u001b[0m\u001b[0;34m(\u001b[0m\u001b[0mcell\u001b[0m\u001b[0;34m,\u001b[0m \u001b[0mconvert_float\u001b[0m\u001b[0;34m)\u001b[0m \u001b[0;32mfor\u001b[0m \u001b[0mcell\u001b[0m \u001b[0;32min\u001b[0m \u001b[0mrow\u001b[0m\u001b[0;34m]\u001b[0m\u001b[0;34m\u001b[0m\u001b[0;34m\u001b[0m\u001b[0m\n\u001b[1;32m    574\u001b[0m             \u001b[0;32mwhile\u001b[0m \u001b[0mconverted_row\u001b[0m \u001b[0;32mand\u001b[0m \u001b[0mconverted_row\u001b[0m\u001b[0;34m[\u001b[0m\u001b[0;34m-\u001b[0m\u001b[0;36m1\u001b[0m\u001b[0;34m]\u001b[0m \u001b[0;34m==\u001b[0m \u001b[0;34m\"\"\u001b[0m\u001b[0;34m:\u001b[0m\u001b[0;34m\u001b[0m\u001b[0;34m\u001b[0m\u001b[0m\n",
      "\u001b[0;32m~/opt/anaconda3/lib/python3.9/site-packages/openpyxl/worksheet/_read_only.py\u001b[0m in \u001b[0;36m_cells_by_row\u001b[0;34m(self, min_col, min_row, max_col, max_row, values_only)\u001b[0m\n\u001b[1;32m     77\u001b[0m                                  \u001b[0mdata_only\u001b[0m\u001b[0;34m=\u001b[0m\u001b[0mself\u001b[0m\u001b[0;34m.\u001b[0m\u001b[0mparent\u001b[0m\u001b[0;34m.\u001b[0m\u001b[0mdata_only\u001b[0m\u001b[0;34m,\u001b[0m \u001b[0mepoch\u001b[0m\u001b[0;34m=\u001b[0m\u001b[0mself\u001b[0m\u001b[0;34m.\u001b[0m\u001b[0mparent\u001b[0m\u001b[0;34m.\u001b[0m\u001b[0mepoch\u001b[0m\u001b[0;34m,\u001b[0m\u001b[0;34m\u001b[0m\u001b[0;34m\u001b[0m\u001b[0m\n\u001b[1;32m     78\u001b[0m                                  date_formats=self.parent._date_formats)\n\u001b[0;32m---> 79\u001b[0;31m         \u001b[0;32mfor\u001b[0m \u001b[0midx\u001b[0m\u001b[0;34m,\u001b[0m \u001b[0mrow\u001b[0m \u001b[0;32min\u001b[0m \u001b[0mparser\u001b[0m\u001b[0;34m.\u001b[0m\u001b[0mparse\u001b[0m\u001b[0;34m(\u001b[0m\u001b[0;34m)\u001b[0m\u001b[0;34m:\u001b[0m\u001b[0;34m\u001b[0m\u001b[0;34m\u001b[0m\u001b[0m\n\u001b[0m\u001b[1;32m     80\u001b[0m             \u001b[0;32mif\u001b[0m \u001b[0mmax_row\u001b[0m \u001b[0;32mis\u001b[0m \u001b[0;32mnot\u001b[0m \u001b[0;32mNone\u001b[0m \u001b[0;32mand\u001b[0m \u001b[0midx\u001b[0m \u001b[0;34m>\u001b[0m \u001b[0mmax_row\u001b[0m\u001b[0;34m:\u001b[0m\u001b[0;34m\u001b[0m\u001b[0;34m\u001b[0m\u001b[0m\n\u001b[1;32m     81\u001b[0m                 \u001b[0;32mbreak\u001b[0m\u001b[0;34m\u001b[0m\u001b[0;34m\u001b[0m\u001b[0m\n",
      "\u001b[0;32m~/opt/anaconda3/lib/python3.9/site-packages/openpyxl/worksheet/_reader.py\u001b[0m in \u001b[0;36mparse\u001b[0;34m(self)\u001b[0m\n\u001b[1;32m    153\u001b[0m                 \u001b[0melement\u001b[0m\u001b[0;34m.\u001b[0m\u001b[0mclear\u001b[0m\u001b[0;34m(\u001b[0m\u001b[0;34m)\u001b[0m\u001b[0;34m\u001b[0m\u001b[0;34m\u001b[0m\u001b[0m\n\u001b[1;32m    154\u001b[0m             \u001b[0;32melif\u001b[0m \u001b[0mtag_name\u001b[0m \u001b[0;34m==\u001b[0m \u001b[0mROW_TAG\u001b[0m\u001b[0;34m:\u001b[0m\u001b[0;34m\u001b[0m\u001b[0;34m\u001b[0m\u001b[0m\n\u001b[0;32m--> 155\u001b[0;31m                 \u001b[0mrow\u001b[0m \u001b[0;34m=\u001b[0m \u001b[0mself\u001b[0m\u001b[0;34m.\u001b[0m\u001b[0mparse_row\u001b[0m\u001b[0;34m(\u001b[0m\u001b[0melement\u001b[0m\u001b[0;34m)\u001b[0m\u001b[0;34m\u001b[0m\u001b[0;34m\u001b[0m\u001b[0m\n\u001b[0m\u001b[1;32m    156\u001b[0m                 \u001b[0melement\u001b[0m\u001b[0;34m.\u001b[0m\u001b[0mclear\u001b[0m\u001b[0;34m(\u001b[0m\u001b[0;34m)\u001b[0m\u001b[0;34m\u001b[0m\u001b[0;34m\u001b[0m\u001b[0m\n\u001b[1;32m    157\u001b[0m                 \u001b[0;32myield\u001b[0m \u001b[0mrow\u001b[0m\u001b[0;34m\u001b[0m\u001b[0;34m\u001b[0m\u001b[0m\n",
      "\u001b[0;32m~/opt/anaconda3/lib/python3.9/site-packages/openpyxl/worksheet/_reader.py\u001b[0m in \u001b[0;36mparse_row\u001b[0;34m(self, row)\u001b[0m\n\u001b[1;32m    284\u001b[0m             \u001b[0mself\u001b[0m\u001b[0;34m.\u001b[0m\u001b[0mrow_dimensions\u001b[0m\u001b[0;34m[\u001b[0m\u001b[0mstr\u001b[0m\u001b[0;34m(\u001b[0m\u001b[0mself\u001b[0m\u001b[0;34m.\u001b[0m\u001b[0mrow_counter\u001b[0m\u001b[0;34m)\u001b[0m\u001b[0;34m]\u001b[0m \u001b[0;34m=\u001b[0m \u001b[0mattrs\u001b[0m\u001b[0;34m\u001b[0m\u001b[0;34m\u001b[0m\u001b[0m\n\u001b[1;32m    285\u001b[0m \u001b[0;34m\u001b[0m\u001b[0m\n\u001b[0;32m--> 286\u001b[0;31m         \u001b[0mcells\u001b[0m \u001b[0;34m=\u001b[0m \u001b[0;34m[\u001b[0m\u001b[0mself\u001b[0m\u001b[0;34m.\u001b[0m\u001b[0mparse_cell\u001b[0m\u001b[0;34m(\u001b[0m\u001b[0mel\u001b[0m\u001b[0;34m)\u001b[0m \u001b[0;32mfor\u001b[0m \u001b[0mel\u001b[0m \u001b[0;32min\u001b[0m \u001b[0mrow\u001b[0m\u001b[0;34m]\u001b[0m\u001b[0;34m\u001b[0m\u001b[0;34m\u001b[0m\u001b[0m\n\u001b[0m\u001b[1;32m    287\u001b[0m         \u001b[0;32mreturn\u001b[0m \u001b[0mself\u001b[0m\u001b[0;34m.\u001b[0m\u001b[0mrow_counter\u001b[0m\u001b[0;34m,\u001b[0m \u001b[0mcells\u001b[0m\u001b[0;34m\u001b[0m\u001b[0;34m\u001b[0m\u001b[0m\n\u001b[1;32m    288\u001b[0m \u001b[0;34m\u001b[0m\u001b[0m\n",
      "\u001b[0;32m~/opt/anaconda3/lib/python3.9/site-packages/openpyxl/worksheet/_reader.py\u001b[0m in \u001b[0;36m<listcomp>\u001b[0;34m(.0)\u001b[0m\n\u001b[1;32m    284\u001b[0m             \u001b[0mself\u001b[0m\u001b[0;34m.\u001b[0m\u001b[0mrow_dimensions\u001b[0m\u001b[0;34m[\u001b[0m\u001b[0mstr\u001b[0m\u001b[0;34m(\u001b[0m\u001b[0mself\u001b[0m\u001b[0;34m.\u001b[0m\u001b[0mrow_counter\u001b[0m\u001b[0;34m)\u001b[0m\u001b[0;34m]\u001b[0m \u001b[0;34m=\u001b[0m \u001b[0mattrs\u001b[0m\u001b[0;34m\u001b[0m\u001b[0;34m\u001b[0m\u001b[0m\n\u001b[1;32m    285\u001b[0m \u001b[0;34m\u001b[0m\u001b[0m\n\u001b[0;32m--> 286\u001b[0;31m         \u001b[0mcells\u001b[0m \u001b[0;34m=\u001b[0m \u001b[0;34m[\u001b[0m\u001b[0mself\u001b[0m\u001b[0;34m.\u001b[0m\u001b[0mparse_cell\u001b[0m\u001b[0;34m(\u001b[0m\u001b[0mel\u001b[0m\u001b[0;34m)\u001b[0m \u001b[0;32mfor\u001b[0m \u001b[0mel\u001b[0m \u001b[0;32min\u001b[0m \u001b[0mrow\u001b[0m\u001b[0;34m]\u001b[0m\u001b[0;34m\u001b[0m\u001b[0;34m\u001b[0m\u001b[0m\n\u001b[0m\u001b[1;32m    287\u001b[0m         \u001b[0;32mreturn\u001b[0m \u001b[0mself\u001b[0m\u001b[0;34m.\u001b[0m\u001b[0mrow_counter\u001b[0m\u001b[0;34m,\u001b[0m \u001b[0mcells\u001b[0m\u001b[0;34m\u001b[0m\u001b[0;34m\u001b[0m\u001b[0m\n\u001b[1;32m    288\u001b[0m \u001b[0;34m\u001b[0m\u001b[0m\n",
      "\u001b[0;32m~/opt/anaconda3/lib/python3.9/site-packages/openpyxl/worksheet/_reader.py\u001b[0m in \u001b[0;36mparse_cell\u001b[0;34m(self, element)\u001b[0m\n\u001b[1;32m    226\u001b[0m                     \u001b[0mdata_type\u001b[0m \u001b[0;34m=\u001b[0m \u001b[0;34m's'\u001b[0m\u001b[0;34m\u001b[0m\u001b[0;34m\u001b[0m\u001b[0m\n\u001b[1;32m    227\u001b[0m                     \u001b[0mrichtext\u001b[0m \u001b[0;34m=\u001b[0m \u001b[0mText\u001b[0m\u001b[0;34m.\u001b[0m\u001b[0mfrom_tree\u001b[0m\u001b[0;34m(\u001b[0m\u001b[0mchild\u001b[0m\u001b[0;34m)\u001b[0m\u001b[0;34m\u001b[0m\u001b[0;34m\u001b[0m\u001b[0m\n\u001b[0;32m--> 228\u001b[0;31m                     \u001b[0mvalue\u001b[0m \u001b[0;34m=\u001b[0m \u001b[0mrichtext\u001b[0m\u001b[0;34m.\u001b[0m\u001b[0mcontent\u001b[0m\u001b[0;34m\u001b[0m\u001b[0;34m\u001b[0m\u001b[0m\n\u001b[0m\u001b[1;32m    229\u001b[0m \u001b[0;34m\u001b[0m\u001b[0m\n\u001b[1;32m    230\u001b[0m         \u001b[0;32mreturn\u001b[0m \u001b[0;34m{\u001b[0m\u001b[0;34m'row'\u001b[0m\u001b[0;34m:\u001b[0m\u001b[0mrow\u001b[0m\u001b[0;34m,\u001b[0m \u001b[0;34m'column'\u001b[0m\u001b[0;34m:\u001b[0m\u001b[0mcolumn\u001b[0m\u001b[0;34m,\u001b[0m \u001b[0;34m'value'\u001b[0m\u001b[0;34m:\u001b[0m\u001b[0mvalue\u001b[0m\u001b[0;34m,\u001b[0m \u001b[0;34m'data_type'\u001b[0m\u001b[0;34m:\u001b[0m\u001b[0mdata_type\u001b[0m\u001b[0;34m,\u001b[0m \u001b[0;34m'style_id'\u001b[0m\u001b[0;34m:\u001b[0m\u001b[0mstyle_id\u001b[0m\u001b[0;34m}\u001b[0m\u001b[0;34m\u001b[0m\u001b[0;34m\u001b[0m\u001b[0m\n",
      "\u001b[0;32m~/opt/anaconda3/lib/python3.9/site-packages/openpyxl/cell/text.py\u001b[0m in \u001b[0;36mcontent\u001b[0;34m(self)\u001b[0m\n\u001b[1;32m    179\u001b[0m         \u001b[0;32mif\u001b[0m \u001b[0mself\u001b[0m\u001b[0;34m.\u001b[0m\u001b[0mplain\u001b[0m \u001b[0;32mis\u001b[0m \u001b[0;32mnot\u001b[0m \u001b[0;32mNone\u001b[0m\u001b[0;34m:\u001b[0m\u001b[0;34m\u001b[0m\u001b[0;34m\u001b[0m\u001b[0m\n\u001b[1;32m    180\u001b[0m             \u001b[0msnippets\u001b[0m\u001b[0;34m.\u001b[0m\u001b[0mappend\u001b[0m\u001b[0;34m(\u001b[0m\u001b[0mself\u001b[0m\u001b[0;34m.\u001b[0m\u001b[0mplain\u001b[0m\u001b[0;34m)\u001b[0m\u001b[0;34m\u001b[0m\u001b[0;34m\u001b[0m\u001b[0m\n\u001b[0;32m--> 181\u001b[0;31m         \u001b[0;32mfor\u001b[0m \u001b[0mblock\u001b[0m \u001b[0;32min\u001b[0m \u001b[0mself\u001b[0m\u001b[0;34m.\u001b[0m\u001b[0mformatted\u001b[0m\u001b[0;34m:\u001b[0m\u001b[0;34m\u001b[0m\u001b[0;34m\u001b[0m\u001b[0m\n\u001b[0m\u001b[1;32m    182\u001b[0m             \u001b[0;32mif\u001b[0m \u001b[0mblock\u001b[0m\u001b[0;34m.\u001b[0m\u001b[0mt\u001b[0m \u001b[0;32mis\u001b[0m \u001b[0;32mnot\u001b[0m \u001b[0;32mNone\u001b[0m\u001b[0;34m:\u001b[0m\u001b[0;34m\u001b[0m\u001b[0;34m\u001b[0m\u001b[0m\n\u001b[1;32m    183\u001b[0m                 \u001b[0msnippets\u001b[0m\u001b[0;34m.\u001b[0m\u001b[0mappend\u001b[0m\u001b[0;34m(\u001b[0m\u001b[0mblock\u001b[0m\u001b[0;34m.\u001b[0m\u001b[0mt\u001b[0m\u001b[0;34m)\u001b[0m\u001b[0;34m\u001b[0m\u001b[0;34m\u001b[0m\u001b[0m\n",
      "\u001b[0;31mKeyboardInterrupt\u001b[0m: "
     ]
    }
   ],
   "source": [
    "trades_df = pd.read_excel('../data/quiverquant_congress_trading_all.xlsx')\n",
    "\n",
    "# inspect data\n",
    "trades_df.head()"
   ]
  },
  {
   "cell_type": "code",
   "execution_count": null,
   "id": "6d76270c",
   "metadata": {},
   "outputs": [],
   "source": [
    "print(f\"Total number of rows: {len(trades_df)}\")"
   ]
  },
  {
   "cell_type": "code",
   "execution_count": null,
   "id": "83eaaad8",
   "metadata": {},
   "outputs": [],
   "source": [
    "# get summary statistics\n",
    "trades_df.describe(include='all')"
   ]
  },
  {
   "cell_type": "code",
   "execution_count": null,
   "id": "e9a14828",
   "metadata": {},
   "outputs": [],
   "source": [
    "print(f\"The min filling data: {trades_df['Filed'].min()}\") # 113th congress\n",
    "print(f\"The max filling data: {trades_df['Filed'].max()}\") # 118th congress"
   ]
  },
  {
   "cell_type": "code",
   "execution_count": null,
   "id": "9b71425f",
   "metadata": {},
   "outputs": [],
   "source": [
    "trades_df['Filed'] = pd.to_datetime(trades_df['Filed'])\n",
    "trades_df.groupby(trades_df['Filed'].dt.year).size()"
   ]
  },
  {
   "cell_type": "code",
   "execution_count": null,
   "id": "24aedc0d",
   "metadata": {},
   "outputs": [],
   "source": [
    "# perhaps we should filter out reinvestments and clean up descriptions? \n",
    "trades_df['Description'].value_counts().head(15)"
   ]
  },
  {
   "cell_type": "code",
   "execution_count": null,
   "id": "d8c8166c",
   "metadata": {},
   "outputs": [],
   "source": [
    "trades_df['Transaction'].value_counts()"
   ]
  },
  {
   "cell_type": "markdown",
   "id": "a3a4ce83",
   "metadata": {},
   "source": [
    "### Inspect member ideology data\n",
    "Data pulled down from [VoteView](https://voteview.com/data)."
   ]
  },
  {
   "cell_type": "code",
   "execution_count": null,
   "id": "526fc70c",
   "metadata": {},
   "outputs": [],
   "source": [
    "mem_id_df = pd.read_csv('../data/voteview_member_ideology.csv')\n",
    "\n",
    "# inspect data\n",
    "mem_id_df.head()"
   ]
  },
  {
   "cell_type": "code",
   "execution_count": null,
   "id": "e7972d0e",
   "metadata": {},
   "outputs": [],
   "source": [
    "mem_id_df.columns"
   ]
  },
  {
   "cell_type": "code",
   "execution_count": null,
   "id": "f7daaaac",
   "metadata": {},
   "outputs": [],
   "source": [
    "# get summary statistics\n",
    "mem_id_df.describe(include='all')"
   ]
  },
  {
   "cell_type": "markdown",
   "id": "b3804e54",
   "metadata": {},
   "source": [
    "We need to determine which columns are relevant and how to map them using [this documentation](https://voteview.com/articles/data_help_members).\n",
    "- Our trade data goes back to the 113th so we should filter from there on the congress column\n",
    "- We should filter out 'President' in chamber"
   ]
  },
  {
   "cell_type": "code",
   "execution_count": null,
   "id": "9ef85d4d",
   "metadata": {},
   "outputs": [],
   "source": [
    "# filter out relevant data\n",
    "mem_id_df = mem_id_df[mem_id_df['congress'] >= 113]\n",
    "mem_id_df = mem_id_df[mem_id_df['chamber'] != 'President']"
   ]
  },
  {
   "cell_type": "code",
   "execution_count": null,
   "id": "0573eff8",
   "metadata": {},
   "outputs": [],
   "source": [
    "# conform names\n",
    "mem_id_df['bioname'] = mem_id_df['bioname'].str.title()\n",
    "mem_id_df['last_name'] = mem_id_df['bioname'].str.split(',').str[0]\n",
    "mem_id_df['first_name'] = mem_id_df['bioname'].str.split(', ').str[-1].str.split(' ').str[0]\n",
    "mem_id_df['name'] = mem_id_df['first_name'] + ' ' + mem_id_df['last_name']\n",
    "mem_id_df['name'] = mem_id_df['name'].str.strip()\n",
    "\n",
    "trades_df['Name'] = trades_df['Name'].str.replace('Iii', '')\n",
    "trades_df['Name'] = trades_df['Name'].str.replace('Jr.', '')\n",
    "trades_df['first_name'] = trades_df['Name'].str.split(' ').str[0]\n",
    "trades_df['last_name'] = trades_df['Name'].str.split(' ').str[-1]\n",
    "trades_df['name_c'] = trades_df['first_name'] + ' ' + trades_df['last_name']\n",
    "trades_df['name_c'] = trades_df['name_c'].str.strip()"
   ]
  },
  {
   "cell_type": "code",
   "execution_count": null,
   "id": "f0ffebab",
   "metadata": {},
   "outputs": [],
   "source": [
    "# do a check on join with the trades dataframe\n",
    "join_check_df = pd.merge(trades_df, mem_id_df, left_on='name_c', right_on='name', how='outer')\n",
    "join_check_df = join_check_df[['Name', 'bioname','name_c', 'name']].drop_duplicates()"
   ]
  },
  {
   "cell_type": "code",
   "execution_count": null,
   "id": "fc11e0d4",
   "metadata": {},
   "outputs": [],
   "source": [
    "# need to do more processing, probably just loop over both sets of names\n",
    "#join_check_df[~(join_check_df['name'].isnull()) & ~(join_check_df['name_c'].isnull())]\n",
    "join_check_df[(join_check_df['name'].isnull()) | (join_check_df['name_c'].isnull())]"
   ]
  },
  {
   "cell_type": "markdown",
   "id": "f3ed65a5",
   "metadata": {},
   "source": [
    "### Inspect ICPSR data\n",
    "Data pulled down from [ICPSR](https://www.icpsr.umich.edu/web/ICPSR/studies/3371/summary)."
   ]
  },
  {
   "cell_type": "code",
   "execution_count": null,
   "id": "53441f4a",
   "metadata": {},
   "outputs": [],
   "source": [
    "comm_df = pd.read_csv('../data/icpsr-congressional-historical-statistics/DS0010/03371-0010-Data.tsv', \n",
    "                      delimiter='\t', low_memory=False)\n",
    "\n",
    "# inspect data\n",
    "comm_df.head()"
   ]
  },
  {
   "cell_type": "code",
   "execution_count": null,
   "id": "a87266d1",
   "metadata": {},
   "outputs": [],
   "source": [
    "comm_df['YEAR_TERM'] = pd.to_numeric(comm_df['YEAR_TERM'], errors='coerce')\n",
    "comm_df['YEAR_TERM'] = comm_df['YEAR_TERM'].fillna(0).astype(int)\n",
    "\n",
    "# only goes up to 1993, need to find other data\n",
    "np.sort(comm_df['YEAR_TERM'].unique())  "
   ]
  },
  {
   "cell_type": "code",
   "execution_count": null,
   "id": "a8b99097",
   "metadata": {},
   "outputs": [],
   "source": [
    "#years = [0, 99, 1006, 1111, 9179, 9891, 9911]\n",
    "#comm_df[comm_df['YEAR_TERM'].isin(years)]"
   ]
  },
  {
   "cell_type": "markdown",
   "id": "8c2e4127",
   "metadata": {},
   "source": [
    "### Scrape data from Wikipedia\n",
    "Testing getting members and commitees for the 113th Congress from [here](https://en.m.wikipedia.org/wiki/113th_United_States_Congress)."
   ]
  },
  {
   "cell_type": "code",
   "execution_count": null,
   "id": "478a7052",
   "metadata": {},
   "outputs": [],
   "source": [
    "import requests\n",
    "from bs4 import BeautifulSoup"
   ]
  },
  {
   "cell_type": "code",
   "execution_count": null,
   "id": "ec664970",
   "metadata": {},
   "outputs": [],
   "source": [
    "url = \"https://en.m.wikipedia.org/wiki/113th_United_States_Congress\"\n",
    "response = requests.get(url)\n",
    "soup = BeautifulSoup(response.content, \"html.parser\")"
   ]
  },
  {
   "cell_type": "code",
   "execution_count": null,
   "id": "7388b7fe",
   "metadata": {},
   "outputs": [],
   "source": [
    "# senate_section = soup.find(\"h3\", id=\"Senate_3\")\n",
    "# senate_table = senate_section.find_next(\"table\", class_=\"col-begin\")\n",
    "\n",
    "# senators = []\n",
    "\n",
    "# for state_div in senate_table.find_all(\"div\", class_=\"mw-heading4\"):\n",
    "#     state_name = state_div.h4.get_text(strip=True)\n",
    "    \n",
    "#     for senator_entry in state_div.find_next(\"dl\").find_all(\"dd\"):\n",
    "#         senator_name = senator_entry.find(\"a\").get_text(strip=True)\n",
    "#         party_affiliation = senator_entry.get_text().split()[-1]\n",
    "#         senators.append({\"State\": state_name, \"Name\": senator_name, \"Party\": party_affiliation})\n",
    "        \n",
    "# # looks good, just need to pull out house + commitees and loop over the other congresses \n",
    "# senators[:10]"
   ]
  },
  {
   "cell_type": "code",
   "execution_count": null,
   "id": "6583f1c3",
   "metadata": {},
   "outputs": [],
   "source": [
    "# house_section = soup.find(\"h3\", id=\"House_of_Representatives_3\")\n",
    "# house_table = house_section.find_next(\"table\", class_=\"col-begin\")\n",
    "\n",
    "# representatives = []\n",
    "\n",
    "# for state_div in specific_table.find_all(\"div\", class_=\"mw-heading4\"):\n",
    "#     state_name = state_div.h4.get_text(strip=True)\n",
    "    \n",
    "#     # Find each representative under this state\n",
    "#     for rep_entry in state_div.find_next(\"dl\").find_all(\"dd\"):\n",
    "#         # Extract the district number\n",
    "#         district_link = rep_entry.find(\"a\")\n",
    "#         if district_link:\n",
    "#             district_number = district_link.get_text(strip=True)\n",
    "#         else:\n",
    "#             district_number = \"At-large\"  # Handle at-large districts\n",
    "\n",
    "#         # Extract the representative's name and party affiliation\n",
    "#         links = rep_entry.find_all(\"a\")\n",
    "#         if len(links) >= 2:\n",
    "#             # Use the second link text for the representative's name\n",
    "#             rep_name = links[1].get_text(strip=True)\n",
    "#             # Party affiliation is typically the last part of the text\n",
    "#             party_affiliation = rep_entry.get_text().split()[-1]\n",
    "#         else:\n",
    "#             continue  # Skip if the structure doesn't match\n",
    "        \n",
    "#         # Append the representative's details to the list\n",
    "#         representatives.append({\n",
    "#             \"State\": state_name,\n",
    "#             \"District\": district_number,\n",
    "#             \"Name\": rep_name,\n",
    "#             \"Party\": party_affiliation})\n",
    "\n",
    "# house_table"
   ]
  },
  {
   "cell_type": "code",
   "execution_count": null,
   "id": "99d80693",
   "metadata": {},
   "outputs": [],
   "source": [
    "# senate_committees = []\n",
    "\n",
    "# senate_section = soup.find(\"h3\", id=\"Senate_5\")\n",
    "# if senate_section:\n",
    "#     committee_list = senate_section.find_next(\"ul\")\n",
    "#     if committee_list:\n",
    "#         for committee_item in committee_list.find_all(\"li\", recursive=False):\n",
    "#             committee_link = committee_item.find(\"a\")\n",
    "#             if committee_link:\n",
    "#                 committee_name = committee_link.get_text(strip=True)\n",
    "#                 committee_url = f\"https://en.wikipedia.org{committee_link['href']}\"\n",
    "                \n",
    "#                 senate_committees.append({\n",
    "#                     \"Committee\": committee_name,\n",
    "#                     \"Link\": committee_url\n",
    "#                 })\n",
    "\n",
    "# senate_committees"
   ]
  },
  {
   "cell_type": "markdown",
   "id": "13bc22d5",
   "metadata": {},
   "source": [
    "### Filter member vote data\n",
    "Filtering member vote record from VoteView"
   ]
  },
  {
   "cell_type": "code",
   "execution_count": 19,
   "id": "28b22f8a",
   "metadata": {},
   "outputs": [
    {
     "data": {
      "text/html": [
       "<div>\n",
       "<style scoped>\n",
       "    .dataframe tbody tr th:only-of-type {\n",
       "        vertical-align: middle;\n",
       "    }\n",
       "\n",
       "    .dataframe tbody tr th {\n",
       "        vertical-align: top;\n",
       "    }\n",
       "\n",
       "    .dataframe thead th {\n",
       "        text-align: right;\n",
       "    }\n",
       "</style>\n",
       "<table border=\"1\" class=\"dataframe\">\n",
       "  <thead>\n",
       "    <tr style=\"text-align: right;\">\n",
       "      <th></th>\n",
       "      <th>congress</th>\n",
       "      <th>chamber</th>\n",
       "      <th>rollnumber</th>\n",
       "      <th>icpsr</th>\n",
       "      <th>cast_code</th>\n",
       "      <th>prob</th>\n",
       "    </tr>\n",
       "  </thead>\n",
       "  <tbody>\n",
       "    <tr>\n",
       "      <th>0</th>\n",
       "      <td>1</td>\n",
       "      <td>House</td>\n",
       "      <td>1</td>\n",
       "      <td>154.0</td>\n",
       "      <td>6.0</td>\n",
       "      <td>61.1</td>\n",
       "    </tr>\n",
       "    <tr>\n",
       "      <th>1</th>\n",
       "      <td>1</td>\n",
       "      <td>House</td>\n",
       "      <td>1</td>\n",
       "      <td>259.0</td>\n",
       "      <td>9.0</td>\n",
       "      <td>99.6</td>\n",
       "    </tr>\n",
       "    <tr>\n",
       "      <th>2</th>\n",
       "      <td>1</td>\n",
       "      <td>House</td>\n",
       "      <td>1</td>\n",
       "      <td>379.0</td>\n",
       "      <td>1.0</td>\n",
       "      <td>100.0</td>\n",
       "    </tr>\n",
       "    <tr>\n",
       "      <th>3</th>\n",
       "      <td>1</td>\n",
       "      <td>House</td>\n",
       "      <td>1</td>\n",
       "      <td>649.0</td>\n",
       "      <td>1.0</td>\n",
       "      <td>59.2</td>\n",
       "    </tr>\n",
       "    <tr>\n",
       "      <th>4</th>\n",
       "      <td>1</td>\n",
       "      <td>House</td>\n",
       "      <td>1</td>\n",
       "      <td>786.0</td>\n",
       "      <td>1.0</td>\n",
       "      <td>97.7</td>\n",
       "    </tr>\n",
       "  </tbody>\n",
       "</table>\n",
       "</div>"
      ],
      "text/plain": [
       "   congress chamber  rollnumber  icpsr  cast_code   prob\n",
       "0         1   House           1  154.0        6.0   61.1\n",
       "1         1   House           1  259.0        9.0   99.6\n",
       "2         1   House           1  379.0        1.0  100.0\n",
       "3         1   House           1  649.0        1.0   59.2\n",
       "4         1   House           1  786.0        1.0   97.7"
      ]
     },
     "execution_count": 19,
     "metadata": {},
     "output_type": "execute_result"
    }
   ],
   "source": [
    "vote_df = pd.read_csv('../data/voteview_members_votes.csv')\n",
    "\n",
    "# inspect data\n",
    "vote_df.head()"
   ]
  },
  {
   "cell_type": "code",
   "execution_count": 23,
   "id": "ceea3eef",
   "metadata": {},
   "outputs": [],
   "source": [
    "nums = [113, 114, 115, 116, 117, 118]\n",
    "\n",
    "vote_df = vote_df[vote_df['congress'].isin(nums)].reset_index(drop=True)"
   ]
  },
  {
   "cell_type": "code",
   "execution_count": 26,
   "id": "1f438e3a",
   "metadata": {},
   "outputs": [],
   "source": [
    "vote_df.to_csv('../data/voteview_members_vote_record.csv', index=False)"
   ]
  },
  {
   "cell_type": "code",
   "execution_count": null,
   "id": "428b2cf4",
   "metadata": {},
   "outputs": [],
   "source": []
  },
  {
   "cell_type": "code",
   "execution_count": null,
   "id": "525080b7",
   "metadata": {},
   "outputs": [],
   "source": []
  },
  {
   "cell_type": "code",
   "execution_count": null,
   "id": "3ebed5d4",
   "metadata": {},
   "outputs": [],
   "source": []
  },
  {
   "cell_type": "code",
   "execution_count": null,
   "id": "846686ef",
   "metadata": {},
   "outputs": [],
   "source": []
  },
  {
   "cell_type": "code",
   "execution_count": null,
   "id": "cd99954c",
   "metadata": {},
   "outputs": [],
   "source": []
  },
  {
   "cell_type": "code",
   "execution_count": null,
   "id": "4f912a0c",
   "metadata": {},
   "outputs": [],
   "source": []
  }
 ],
 "metadata": {
  "kernelspec": {
   "display_name": "Python 3 (ipykernel)",
   "language": "python",
   "name": "python3"
  },
  "language_info": {
   "codemirror_mode": {
    "name": "ipython",
    "version": 3
   },
   "file_extension": ".py",
   "mimetype": "text/x-python",
   "name": "python",
   "nbconvert_exporter": "python",
   "pygments_lexer": "ipython3",
   "version": "3.9.7"
  }
 },
 "nbformat": 4,
 "nbformat_minor": 5
}
